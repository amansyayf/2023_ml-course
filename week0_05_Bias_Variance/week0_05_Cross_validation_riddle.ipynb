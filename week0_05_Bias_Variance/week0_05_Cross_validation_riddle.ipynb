{
  "cells": [
    {
      "cell_type": "markdown",
      "metadata": {
        "id": "view-in-github",
        "colab_type": "text"
      },
      "source": [
        "<a href=\"https://colab.research.google.com/github/amansyayf/2023_ml-course/blob/main/week0_05_Bias_Variance/week0_05_Cross_validation_riddle.ipynb\" target=\"_parent\"><img src=\"https://colab.research.google.com/assets/colab-badge.svg\" alt=\"Open In Colab\"/></a>"
      ]
    },
    {
      "cell_type": "markdown",
      "metadata": {
        "id": "23B5wMNdbMpF"
      },
      "source": [
        "*Credits: this notebook origin (shared under MIT license) belongs to [ML course at ICL](https://github.com/yandexdataschool/MLatImperial2020) held by Yandex School of Data Analysis. Special thanks to the course team for making it available online.*"
      ]
    },
    {
      "cell_type": "markdown",
      "metadata": {
        "id": "Ij_zY4soDF2Z"
      },
      "source": [
        "## week0_05: Cross-validation riddle"
      ]
    },
    {
      "cell_type": "markdown",
      "metadata": {
        "id": "qUCsY5OlDJPl"
      },
      "source": [
        "Here's a small example of cross-validation done wrongly. Can you spot the problem?"
      ]
    },
    {
      "cell_type": "code",
      "execution_count": 1,
      "metadata": {
        "id": "mSUzkXsC-R4H"
      },
      "outputs": [],
      "source": [
        "# Some imports...\n",
        "import numpy as np\n",
        "import matplotlib.pyplot as plt\n",
        "\n",
        "from sklearn.svm import LinearSVC\n",
        "from sklearn.model_selection import KFold, cross_val_score\n",
        "from sklearn.metrics import accuracy_score"
      ]
    },
    {
      "cell_type": "markdown",
      "metadata": {
        "id": "ZyDp3Xc_DaDM"
      },
      "source": [
        "**Plan:**\n",
        "\n",
        "- Let's create a binary classification dataset where targets are completely independent from the features\n",
        "  - *(i.e. no model could ever predict them well)*\n",
        "- We'll do some simple feature selection\n",
        "- And cross-validate a model on this data\n",
        "\n",
        "**Q:** what accuracy do we expect (classes are even)?"
      ]
    },
    {
      "cell_type": "markdown",
      "metadata": {
        "id": "IHx51DKP8Rcf"
      },
      "source": [
        "We'll start from writing a class to select the best features:"
      ]
    },
    {
      "cell_type": "code",
      "execution_count": 2,
      "metadata": {
        "id": "rRNmKZJJ8W7x"
      },
      "outputs": [],
      "source": [
        "class FeatureSelector:\n",
        "    def __init__(self, num_features):\n",
        "        self.n = num_features # number of best features to select\n",
        "\n",
        "    def fit(self, X, y):\n",
        "        # Select features that describe the targets best, i.e. have\n",
        "        # highest correlation with them:\n",
        "        covariance = ((X - X.mean(axis=0)) * (y[:,np.newaxis] - y.mean())).mean(axis=0)\n",
        "        self.best_feature_ids = np.argsort(np.abs(covariance))[-self.n:]\n",
        "\n",
        "    def transform(self, X):\n",
        "        return X[:,self.best_feature_ids]\n",
        "\n",
        "    def fit_transform(self, X, y):\n",
        "        self.fit(X, y)\n",
        "        return self.transform(X)"
      ]
    },
    {
      "cell_type": "code",
      "execution_count": 3,
      "metadata": {
        "colab": {
          "base_uri": "https://localhost:8080/"
        },
        "id": "6mu9gHgNBk_V",
        "outputId": "eaeaf168-1be2-4ad6-81f9-44b99d950351"
      },
      "outputs": [
        {
          "output_type": "stream",
          "name": "stdout",
          "text": [
            "CV score is 0.9\n"
          ]
        }
      ],
      "source": [
        "num_features_total = 1000\n",
        "num_features_best = 100\n",
        "\n",
        "N = 100\n",
        "\n",
        "# Dataset generation\n",
        "X = np.random.normal(size=(N, num_features_total))\n",
        "y = np.random.randint(2, size=N)\n",
        "\n",
        "# Feature selection:\n",
        "X_best = FeatureSelector(num_features_best).fit_transform(X, y)\n",
        "\n",
        "# Simple classification model\n",
        "model = LinearSVC()\n",
        "\n",
        "# Estimatin accuracy using cross-validation:\n",
        "cv_score = cross_val_score(model, X_best, y, scoring='accuracy', cv=10, n_jobs=-1).mean()\n",
        "print(f\"CV score is {cv_score}\")"
      ]
    },
    {
      "cell_type": "markdown",
      "metadata": {
        "id": "afadN3ZVFKjF"
      },
      "source": [
        "What's going on?! Why accuracy is so high?\n",
        "\n",
        "Maybe it just happened by chance? Let's repeat this experiment many times and histogram the results:"
      ]
    },
    {
      "cell_type": "code",
      "execution_count": 6,
      "metadata": {
        "colab": {
          "base_uri": "https://localhost:8080/",
          "height": 430
        },
        "id": "QDbOMXnuC6uw",
        "outputId": "25de9465-d5e7-4bdc-9d50-e2e1f83bb4b6"
      },
      "outputs": [
        {
          "output_type": "display_data",
          "data": {
            "text/plain": [
              "<Figure size 640x480 with 1 Axes>"
            ],
            "image/png": "[encoded data removed]"
          },
          "metadata": {}
        }
      ],
      "source": [
        "num_features_total = 1000\n",
        "num_features_best = 100\n",
        "\n",
        "N = 100\n",
        "def experiment():\n",
        "  # Dataset generation\n",
        "  X = np.random.normal(size=(N, num_features_total))\n",
        "  y = np.random.randint(2, size=N)\n",
        "\n",
        "  # Feature selection:\n",
        "  X_best = FeatureSelector(num_features_best).fit_transform(X, y)\n",
        "\n",
        "  # Simple classification model\n",
        "  model = LinearSVC()\n",
        "\n",
        "  # Estimatin accuracy using cross-validation:\n",
        "  return cross_val_score(model, X_best, y, scoring='accuracy', cv=10, n_jobs=-1).mean()\n",
        "\n",
        "results = [experiment() for _ in range(100)]\n",
        "plt.hist(results, bins=10);"
      ]
    },
    {
      "cell_type": "markdown",
      "metadata": {
        "id": "8bLaEypoF5pb"
      },
      "source": [
        "Can you explain and fix this?"
      ]
    },
    {
      "cell_type": "code",
      "execution_count": 8,
      "metadata": {
        "id": "THmQqjUvbMpf"
      },
      "outputs": [],
      "source": [
        "# It's dangerous to go alone. Take this!\n",
        "from sklearn.pipeline import Pipeline\n",
        "from sklearn.preprocessing import StandardScaler"
      ]
    },
    {
      "cell_type": "code",
      "execution_count": 9,
      "metadata": {
        "id": "scM2EWsbbMpf"
      },
      "outputs": [],
      "source": [
        "pipe = Pipeline([\n",
        "    ('scaler', StandardScaler()),\n",
        "    ('feature selector', FeatureSelector(num_features=100)),\n",
        "    ('svc', LinearSVC())\n",
        "]\n",
        ")"
      ]
    },
    {
      "cell_type": "code",
      "source": [
        "pipe"
      ],
      "metadata": {
        "id": "FKG8jba5hOGO",
        "outputId": "0299e1c5-5a4d-4fc3-ab30-ea96b5e7933b",
        "colab": {
          "base_uri": "https://localhost:8080/",
          "height": 159
        }
      },
      "execution_count": 10,
      "outputs": [
        {
          "output_type": "execute_result",
          "data": {
            "text/plain": [
              "Pipeline(steps=[('scaler', StandardScaler()),\n",
              "                ('feature selector',\n",
              "                 <__main__.FeatureSelector object at 0x7fa066984790>),\n",
              "                ('svc', LinearSVC())])"
            ],
            "text/html": [
              "<style>#sk-container-id-1 {color: black;background-color: white;}#sk-container-id-1 pre{padding: 0;}#sk-container-id-1 div.sk-toggleable {background-color: white;}#sk-container-id-1 label.sk-toggleable__label {cursor: pointer;display: block;width: 100%;margin-bottom: 0;padding: 0.3em;box-sizing: border-box;text-align: center;}#sk-container-id-1 label.sk-toggleable__label-arrow:before {content: \"▸\";float: left;margin-right: 0.25em;color: #696969;}#sk-container-id-1 label.sk-toggleable__label-arrow:hover:before {color: black;}#sk-container-id-1 div.sk-estimator:hover label.sk-toggleable__label-arrow:before {color: black;}#sk-container-id-1 div.sk-toggleable__content {max-height: 0;max-width: 0;overflow: hidden;text-align: left;background-color: #f0f8ff;}#sk-container-id-1 div.sk-toggleable__content pre {margin: 0.2em;color: black;border-radius: 0.25em;background-color: #f0f8ff;}#sk-container-id-1 input.sk-toggleable__control:checked~div.sk-toggleable__content {max-height: 200px;max-width: 100%;overflow: auto;}#sk-container-id-1 input.sk-toggleable__control:checked~label.sk-toggleable__label-arrow:before {content: \"▾\";}#sk-container-id-1 div.sk-estimator input.sk-toggleable__control:checked~label.sk-toggleable__label {background-color: #d4ebff;}#sk-container-id-1 div.sk-label input.sk-toggleable__control:checked~label.sk-toggleable__label {background-color: #d4ebff;}#sk-container-id-1 input.sk-hidden--visually {border: 0;clip: rect(1px 1px 1px 1px);clip: rect(1px, 1px, 1px, 1px);height: 1px;margin: -1px;overflow: hidden;padding: 0;position: absolute;width: 1px;}#sk-container-id-1 div.sk-estimator {font-family: monospace;background-color: #f0f8ff;border: 1px dotted black;border-radius: 0.25em;box-sizing: border-box;margin-bottom: 0.5em;}#sk-container-id-1 div.sk-estimator:hover {background-color: #d4ebff;}#sk-container-id-1 div.sk-parallel-item::after {content: \"\";width: 100%;border-bottom: 1px solid gray;flex-grow: 1;}#sk-container-id-1 div.sk-label:hover label.sk-toggleable__label {background-color: #d4ebff;}#sk-container-id-1 div.sk-serial::before {content: \"\";position: absolute;border-left: 1px solid gray;box-sizing: border-box;top: 0;bottom: 0;left: 50%;z-index: 0;}#sk-container-id-1 div.sk-serial {display: flex;flex-direction: column;align-items: center;background-color: white;padding-right: 0.2em;padding-left: 0.2em;position: relative;}#sk-container-id-1 div.sk-item {position: relative;z-index: 1;}#sk-container-id-1 div.sk-parallel {display: flex;align-items: stretch;justify-content: center;background-color: white;position: relative;}#sk-container-id-1 div.sk-item::before, #sk-container-id-1 div.sk-parallel-item::before {content: \"\";position: absolute;border-left: 1px solid gray;box-sizing: border-box;top: 0;bottom: 0;left: 50%;z-index: -1;}#sk-container-id-1 div.sk-parallel-item {display: flex;flex-direction: column;z-index: 1;position: relative;background-color: white;}#sk-container-id-1 div.sk-parallel-item:first-child::after {align-self: flex-end;width: 50%;}#sk-container-id-1 div.sk-parallel-item:last-child::after {align-self: flex-start;width: 50%;}#sk-container-id-1 div.sk-parallel-item:only-child::after {width: 0;}#sk-container-id-1 div.sk-dashed-wrapped {border: 1px dashed gray;margin: 0 0.4em 0.5em 0.4em;box-sizing: border-box;padding-bottom: 0.4em;background-color: white;}#sk-container-id-1 div.sk-label label {font-family: monospace;font-weight: bold;display: inline-block;line-height: 1.2em;}#sk-container-id-1 div.sk-label-container {text-align: center;}#sk-container-id-1 div.sk-container {/* jupyter's `normalize.less` sets `[hidden] { display: none; }` but bootstrap.min.css set `[hidden] { display: none !important; }` so we also need the `!important` here to be able to override the default hidden behavior on the sphinx rendered scikit-learn.org. See: https://github.com/scikit-learn/scikit-learn/issues/21755 */display: inline-block !important;position: relative;}#sk-container-id-1 div.sk-text-repr-fallback {display: none;}</style><div id=\"sk-container-id-1\" class=\"sk-top-container\"><div class=\"sk-text-repr-fallback\"><pre>Pipeline(steps=[(&#x27;scaler&#x27;, StandardScaler()),\n",
              "                (&#x27;feature selector&#x27;,\n",
              "                 &lt;__main__.FeatureSelector object at 0x7fa066984790&gt;),\n",
              "                (&#x27;svc&#x27;, LinearSVC())])</pre><b>In a Jupyter environment, please rerun this cell to show the HTML representation or trust the notebook. <br />On GitHub, the HTML representation is unable to render, please try loading this page with nbviewer.org.</b></div><div class=\"sk-container\" hidden><div class=\"sk-item sk-dashed-wrapped\"><div class=\"sk-label-container\"><div class=\"sk-label sk-toggleable\"><input class=\"sk-toggleable__control sk-hidden--visually\" id=\"sk-estimator-id-1\" type=\"checkbox\" ><label for=\"sk-estimator-id-1\" class=\"sk-toggleable__label sk-toggleable__label-arrow\">Pipeline</label><div class=\"sk-toggleable__content\"><pre>Pipeline(steps=[(&#x27;scaler&#x27;, StandardScaler()),\n",
              "                (&#x27;feature selector&#x27;,\n",
              "                 &lt;__main__.FeatureSelector object at 0x7fa066984790&gt;),\n",
              "                (&#x27;svc&#x27;, LinearSVC())])</pre></div></div></div><div class=\"sk-serial\"><div class=\"sk-item\"><div class=\"sk-estimator sk-toggleable\"><input class=\"sk-toggleable__control sk-hidden--visually\" id=\"sk-estimator-id-2\" type=\"checkbox\" ><label for=\"sk-estimator-id-2\" class=\"sk-toggleable__label sk-toggleable__label-arrow\">StandardScaler</label><div class=\"sk-toggleable__content\"><pre>StandardScaler()</pre></div></div></div><div class=\"sk-item\"><div class=\"sk-estimator sk-toggleable\"><input class=\"sk-toggleable__control sk-hidden--visually\" id=\"sk-estimator-id-3\" type=\"checkbox\" ><label for=\"sk-estimator-id-3\" class=\"sk-toggleable__label sk-toggleable__label-arrow\">FeatureSelector</label><div class=\"sk-toggleable__content\"><pre>&lt;__main__.FeatureSelector object at 0x7fa066984790&gt;</pre></div></div></div><div class=\"sk-item\"><div class=\"sk-estimator sk-toggleable\"><input class=\"sk-toggleable__control sk-hidden--visually\" id=\"sk-estimator-id-4\" type=\"checkbox\" ><label for=\"sk-estimator-id-4\" class=\"sk-toggleable__label sk-toggleable__label-arrow\">LinearSVC</label><div class=\"sk-toggleable__content\"><pre>LinearSVC()</pre></div></div></div></div></div></div></div>"
            ]
          },
          "metadata": {},
          "execution_count": 10
        }
      ]
    },
    {
      "cell_type": "code",
      "source": [
        "num_features_total = 1000\n",
        "num_features_best = 100\n",
        "\n",
        "N = 100\n",
        "def experiment():\n",
        "  # Dataset generation\n",
        "  X = np.random.normal(size=(N, num_features_total))\n",
        "  y = np.random.randint(2, size=N)\n",
        "\n",
        "  pipe = Pipeline([\n",
        "    ('scaler', StandardScaler()),\n",
        "    ('feature selector', FeatureSelector(num_features=100)),\n",
        "    ('svc', LinearSVC())\n",
        "  ]\n",
        "  )\n",
        "\n",
        "\n",
        "  # Estimatin accuracy using cross-validation:\n",
        "  return cross_val_score(pipe, X_best, y, scoring='accuracy', cv=10, n_jobs=-1).mean()\n",
        "\n",
        "results = [experiment() for _ in range(100)]\n",
        "plt.hist(results, bins=10);"
      ],
      "metadata": {
        "id": "-xOOW6vohTBi",
        "outputId": "3916a1e6-3656-4798-fd51-8c470ede133e",
        "colab": {
          "base_uri": "https://localhost:8080/",
          "height": 430
        }
      },
      "execution_count": 11,
      "outputs": [
        {
          "output_type": "display_data",
          "data": {
            "text/plain": [
              "<Figure size 640x480 with 1 Axes>"
            ],
            "image/png": "[encoded data removed]"
          },
          "metadata": {}
        }
      ]
    },
    {
      "cell_type": "code",
      "source": [],
      "metadata": {
        "id": "QfBR0tL_hn-N"
      },
      "execution_count": null,
      "outputs": []
    }
  ],
  "metadata": {
    "colab": {
      "name": "Cross-validation riddle.ipynb",
      "provenance": [],
      "include_colab_link": true
    },
    "kernelspec": {
      "display_name": "Py3 research env",
      "language": "python",
      "name": "py3_research"
    },
    "language_info": {
      "codemirror_mode": {
        "name": "ipython",
        "version": 3
      },
      "file_extension": ".py",
      "mimetype": "text/x-python",
      "name": "python",
      "nbconvert_exporter": "python",
      "pygments_lexer": "ipython3",
      "version": "3.6.7"
    }
  },
  "nbformat": 4,
  "nbformat_minor": 0
}